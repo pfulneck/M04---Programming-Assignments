{
  "metadata": {
    "kernelspec": {
      "name": "python",
      "display_name": "Python (Pyodide)",
      "language": "python"
    },
    "language_info": {
      "codemirror_mode": {
        "name": "python",
        "version": 3
      },
      "file_extension": ".py",
      "mimetype": "text/x-python",
      "name": "python",
      "nbconvert_exporter": "python",
      "pygments_lexer": "ipython3",
      "version": "3.8"
    }
  },
  "nbformat_minor": 4,
  "nbformat": 4,
  "cells": [
    {
      "cell_type": "code",
      "source": "import csv\n\nwith open('books.csv', 'r') as file:\n    reader = csv.DictReader(file)\n    books = list(reader)\n\nfor book in books:\n    print(book)",
      "metadata": {
        "trusted": true
      },
      "outputs": [
        {
          "name": "stdout",
          "text": "{'\\ufeffauthor': 'J. R. R. Tolkien', 'book': 'The Hobbit'}\n{'\\ufeffauthor': 'Lynne Truss', 'book': 'Eats, Shoots & Leaves'}\n",
          "output_type": "stream"
        }
      ],
      "execution_count": 4
    },
    {
      "cell_type": "code",
      "source": "import sqlite3\n\nconn = sqlite3.connect('books.db')\ncursor = conn.cursor()\n\ncursor.execute('''\nCREATE TABLE books (\n    title TEXT,\n    author TEXT,\n    year INTEGER,\n               )\n               ''')\n\nconn.commit()\nconn.close()",
      "metadata": {
        "trusted": true
      },
      "outputs": [],
      "execution_count": null
    },
    {
      "cell_type": "code",
      "source": "import csv\nimport sqlite3\n\nconn = sqlite3.connect('books.db')\ncursor = conn.cursor()\n\nwith open('books2.csv', 'r') as file:\n    reader = csv.DictReader(file)\n    for row in reader:\n        cursor.execute('''\n        INSERT INTO books (title, author, year)\n        VALUES (?, ?, ?)\n        ''', (row['title'], row['author'], row['year']))\n\nconn.commit()\nconn.close()",
      "metadata": {
        "trusted": true
      },
      "outputs": [],
      "execution_count": null
    },
    {
      "cell_type": "code",
      "source": "import sqlite3\n\nconn = sqlite3.connect('books.db')\ncursor = conn.cursor()\n\ncursor.execute('''\nSELECT title FROM books ORDER BY title\n''')\n\nfor row in cursor.fetchall():\n    print(row[0])\n\nconn.close()",
      "metadata": {
        "trusted": true
      },
      "outputs": [],
      "execution_count": null
    },
    {
      "cell_type": "code",
      "source": "import sqlite3\n\nconn = sqlite3.connect('books.db')\ncursor = conn.cursor()\n\ncursor.execute('''\nSELECT * FROM books ORDER BY year\n''')\n\nfor row in cursor.fetchall():\n    print(row)\n\nconn.close()",
      "metadata": {
        "trusted": true
      },
      "outputs": [],
      "execution_count": null
    },
    {
      "cell_type": "code",
      "source": "from sqlalchemy import create_engine, Table, MetaData, select\n\nengine = create_engine('sqlite:///books.db')\nmetadata = MetaData()\nmetadata.reflect(bind=engine)\nbooks_table = metadata.tables['books']\n\nwith engine.connect() as conn:\n    query = select([books_table.c.title]).order_by(books_table.c.title)\n    result = conn.execute(query)\n    for row in result:\n        print(row['title'])",
      "metadata": {
        "trusted": true
      },
      "outputs": [],
      "execution_count": null
    },
    {
      "cell_type": "code",
      "source": "",
      "metadata": {
        "trusted": true
      },
      "outputs": [],
      "execution_count": null
    },
    {
      "cell_type": "code",
      "source": "",
      "metadata": {
        "trusted": true
      },
      "outputs": [],
      "execution_count": null
    }
  ]
}